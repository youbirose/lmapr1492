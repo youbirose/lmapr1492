{
 "cells": [
  {
   "cell_type": "code",
   "execution_count": null,
   "id": "09f3a661",
   "metadata": {},
   "outputs": [],
   "source": [
    "# pip install jupyter_jsmol"
   ]
  },
  {
   "cell_type": "code",
   "execution_count": 41,
   "id": "8e41b492",
   "metadata": {},
   "outputs": [],
   "source": [
    "import numpy as np\n",
    "from mp_api.client import MPRester\n",
    "from pymatgen.core.operations import SymmOp\n",
    "from pymatgen.symmetry.analyzer import SpacegroupAnalyzer\n",
    "# from pymatgen.electronic_structure.plotter import BSPlotter\n",
    "# from pymatgen.phonon.plotter import PhononBSPlotter\n",
    "# from jupyter_jsmol.pymatgen import quick_view\n",
    "# from lmapr1492 import plot_brillouin_zone, get_plot_bs, get_plot_dos, get_plot_bs_and_dos, get_branch_wavevectors\n",
    "# from plotly.subplots import make_subplots\n",
    "# import plotly.graph_objects as go"
   ]
  },
  {
   "cell_type": "code",
   "execution_count": 42,
   "id": "68479a66",
   "metadata": {},
   "outputs": [],
   "source": [
    "mp_key = \"7H4ydwHDAGw2EfDFEGcbuln7Cw6lpJsi\"\n",
    "mp_id = \"mp-30459 \""
   ]
  },
  {
   "cell_type": "code",
   "execution_count": 46,
   "id": "f312daca",
   "metadata": {},
   "outputs": [
    {
     "data": {
      "application/vnd.jupyter.widget-view+json": {
       "model_id": "a62db518124d40d2af1552d90ba38325",
       "version_major": 2,
       "version_minor": 0
      },
      "text/plain": [
       "Retrieving MaterialsDoc documents:   0%|          | 0/1 [00:00<?, ?it/s]"
      ]
     },
     "metadata": {},
     "output_type": "display_data"
    }
   ],
   "source": [
    "with MPRester(mp_key) as m:\n",
    "    prim_struc = m.get_structure_by_material_id(mp_id)\n",
    "\n",
    "conv_struc = SpacegroupAnalyzer(prim_struc).get_conventional_standard_structure()\n",
    "symmops = SpacegroupAnalyzer(conv_struc).get_space_group_operations()"
   ]
  },
  {
   "cell_type": "code",
   "execution_count": 47,
   "id": "026fbe03",
   "metadata": {},
   "outputs": [
    {
     "name": "stdout",
     "output_type": "stream",
     "text": [
      "les coordonées de la maille primitive sont \n",
      " Full Formula (Sc1 Ni1 Bi1)\n",
      "Reduced Formula: ScNiBi\n",
      "abc   :   4.400029   4.400028   4.400028\n",
      "angles:  59.999988  59.999995  59.999995\n",
      "pbc   :       True       True       True\n",
      "Sites (3)\n",
      "  #  SP        a     b     c    magmom\n",
      "---  ----  -----  ----  ----  --------\n",
      "  0  Sc     0.5   0.5   0.5         -0\n",
      "  1  Ni     0.25  0.25  0.25         0\n",
      "  2  Bi    -0     0     0            0 \n",
      " \n",
      " \n",
      " celle de la maill conventionnelle \n",
      " Full Formula (Sc4 Ni4 Bi4)\n",
      "Reduced Formula: ScNiBi\n",
      "abc   :   6.222579   6.222579   6.222579\n",
      "angles:  90.000000  90.000000  90.000000\n",
      "pbc   :       True       True       True\n",
      "Sites (12)\n",
      "  #  SP       a     b     c\n",
      "---  ----  ----  ----  ----\n",
      "  0  Sc    0.5   0     0\n",
      "  1  Sc    0.5   0.5   0.5\n",
      "  2  Sc    0     0     0.5\n",
      "  3  Sc    0     0.5   0\n",
      "  4  Ni    0.75  0.25  0.25\n",
      "  5  Ni    0.75  0.75  0.75\n",
      "  6  Ni    0.25  0.25  0.75\n",
      "  7  Ni    0.25  0.75  0.25\n",
      "  8  Bi    0     0     0\n",
      "  9  Bi    0     0.5   0.5\n",
      " 10  Bi    0.5   0     0.5\n",
      " 11  Bi    0.5   0.5   0\n"
     ]
    }
   ],
   "source": [
    "print(f'les coordonées de la maille primitive sont \\n {prim_struc} \\n ')\n",
    "print(f' \\n celle de la maill conventionnelle \\n {conv_struc}')"
   ]
  },
  {
   "cell_type": "code",
   "execution_count": 48,
   "id": "8b4cb3c2",
   "metadata": {},
   "outputs": [],
   "source": [
    "conv_vecteurs =conv_struc.lattice.abc\n",
    "conv_vecteurs_Reciproque = conv_struc.lattice.reciprocal_lattice.abc\n",
    "\n",
    "conv_angles = conv_struc.lattice.angles\n",
    "conv_angles_Reciproque = conv_struc.lattice.reciprocal_lattice.angles\n"
   ]
  },
  {
   "cell_type": "code",
   "execution_count": 54,
   "id": "37774d6e",
   "metadata": {},
   "outputs": [],
   "source": [
    "\n",
    "Sys_crystal = SpacegroupAnalyzer(conv_struc).get_crystal_system() # système cristallin\n",
    "\n",
    "groupe_pontuel = SpacegroupAnalyzer(conv_struc).get_point_group_symbol() # groupe pontuel\n",
    "\n",
    "maille = SpacegroupAnalyzer(conv_struc).get_lattice_type() # type de maille\n",
    "\n",
    "groupe_space = SpacegroupAnalyzer(conv_struc).get_space_group_symbol()\n",
    "\n",
    "number_symm =SpacegroupAnalyzer(conv_struc).get_space_group_number()\n"
   ]
  },
  {
   "cell_type": "code",
   "execution_count": 66,
   "id": "cc84c22c",
   "metadata": {},
   "outputs": [
    {
     "name": "stdout",
     "output_type": "stream",
     "text": [
      " Les paramètres du réseau direct: \n",
      "\n",
      "* Vecteurs de bases du réseau direct:\n",
      "a = 6.222579452145211 Å\n",
      "b = 6.222579452145211 Å\n",
      "c = 6.222579452145211 Å \n",
      "\n",
      "* Angles de base :\n",
      "α = 90.0°\n",
      "β = 90.0°\n",
      "γ = 90.0°\n",
      "\n",
      " Les paramètres du réseau réciproque: \n",
      "\n",
      "* Vecteurs de bases du réseau réciproque: \n",
      "a = 1.0097396675286294 Å\n",
      "b = 1.0097396675286294 Å\n",
      "c = 1.0097396675286294 Å \n",
      "\n",
      "* Angles de base :\n",
      "α = 90.00000000000001°\n",
      "β = 90.00000000000001°\n",
      "γ = 90.00000000000001°\n",
      "\n",
      "Type de maille est : cubic \n",
      " Système cristallin est : cubic \n",
      " Groupe ponctuel est : -43m \n",
      " Groupe d'espace est : F-43m \n",
      " Le numero international correspondant est : 216\n"
     ]
    }
   ],
   "source": [
    "\n",
    "print(\" Les paramètres du réseau direct: \\n\")\n",
    "print('* Vecteurs de bases du réseau direct:')\n",
    "print(f\"a = {conv_vecteurs[0]} Å\")\n",
    "print(f\"b = {conv_vecteurs[1]} Å\")\n",
    "print(f\"c = {conv_vecteurs[2]} Å \\n\")\n",
    "print('* Angles de base :')\n",
    "print(f\"α = {conv_angles[0]}°\")\n",
    "print(f\"β = {conv_angles[1]}°\")\n",
    "print(f\"γ = {conv_angles[2]}°\\n\")\n",
    "\n",
    "print(\" Les paramètres du réseau réciproque: \\n\")\n",
    "print(\"* Vecteurs de bases du réseau réciproque: \")\n",
    "print(f\"a = {conv_vecteurs_Reciproque[0]} Å\")\n",
    "print(f\"b = {conv_vecteurs_Reciproque[1]} Å\")\n",
    "print(f\"c = {conv_vecteurs_Reciproque[2]} Å \\n\")\n",
    "print('* Angles de base :')\n",
    "print(f\"α = {conv_angles_Reciproque[0]}°\")\n",
    "print(f\"β = {conv_angles_Reciproque[1]}°\")\n",
    "print(f\"γ = {conv_angles_Reciproque[2]}°\\n\")\n",
    "\n",
    "print(f\"Type de maille est : {maille} \\n Système cristallin est : { Sys_crystal} \\n Groupe ponctuel est : {groupe_pontuel} \\n Groupe d'espace est : {groupe_spacial} \\n Le numero international correspondant est : {number_symm }\")"
   ]
  },
  {
   "cell_type": "code",
   "execution_count": null,
   "id": "4b10c5a8",
   "metadata": {},
   "outputs": [],
   "source": []
  }
 ],
 "metadata": {
  "kernelspec": {
   "display_name": "MLenv",
   "language": "python",
   "name": "mlenv"
  },
  "language_info": {
   "codemirror_mode": {
    "name": "ipython",
    "version": 3
   },
   "file_extension": ".py",
   "mimetype": "text/x-python",
   "name": "python",
   "nbconvert_exporter": "python",
   "pygments_lexer": "ipython3",
   "version": "3.10.14"
  },
  "nbTranslate": {
   "displayLangs": [
    "*"
   ],
   "hotkey": "alt-t",
   "langInMainMenu": true,
   "sourceLang": "en",
   "targetLang": "fr",
   "useGoogleTranslate": true
  },
  "toc": {
   "base_numbering": 1,
   "nav_menu": {},
   "number_sections": true,
   "sideBar": true,
   "skip_h1_title": false,
   "title_cell": "Table of Contents",
   "title_sidebar": "Contents",
   "toc_cell": false,
   "toc_position": {},
   "toc_section_display": true,
   "toc_window_display": false
  },
  "varInspector": {
   "cols": {
    "lenName": 16,
    "lenType": 16,
    "lenVar": 40
   },
   "kernels_config": {
    "python": {
     "delete_cmd_postfix": "",
     "delete_cmd_prefix": "del ",
     "library": "var_list.py",
     "varRefreshCmd": "print(var_dic_list())"
    },
    "r": {
     "delete_cmd_postfix": ") ",
     "delete_cmd_prefix": "rm(",
     "library": "var_list.r",
     "varRefreshCmd": "cat(var_dic_list()) "
    }
   },
   "types_to_exclude": [
    "module",
    "function",
    "builtin_function_or_method",
    "instance",
    "_Feature"
   ],
   "window_display": false
  }
 },
 "nbformat": 4,
 "nbformat_minor": 5
}
