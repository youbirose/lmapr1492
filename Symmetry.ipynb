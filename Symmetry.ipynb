{
 "cells": [
  {
   "cell_type": "code",
   "execution_count": 7,
   "id": "8e41b492",
   "metadata": {},
   "outputs": [],
   "source": [
    "import numpy as np\n",
    "from mp_api.client import MPRester\n",
    "from pymatgen.core.operations import SymmOp\n",
    "from pymatgen.symmetry.analyzer import SpacegroupAnalyzer\n",
    "from pymatgen.electronic_structure.plotter import BSPlotter\n",
    "from pymatgen.phonon.plotter import PhononBSPlotter\n",
    "from jupyter_jsmol.pymatgen import quick_view\n",
    "from lmapr1492 import plot_brillouin_zone, get_plot_bs, get_plot_dos, get_plot_bs_and_dos, get_branch_wavevectors\n",
    "from plotly.subplots import make_subplots\n",
    "import plotly.graph_objects as go"
   ]
  },
  {
   "cell_type": "code",
   "execution_count": 8,
   "id": "68479a66",
   "metadata": {},
   "outputs": [],
   "source": [
    "mp_key = \"7H4ydwHDAGw2EfDFEGcbuln7Cw6lpJsi\"\n",
    "mp_id = \"mp-30459\""
   ]
  },
  {
   "cell_type": "code",
   "execution_count": 9,
   "id": "f312daca",
   "metadata": {},
   "outputs": [
    {
     "data": {
      "application/vnd.jupyter.widget-view+json": {
       "model_id": "6fc3bcb9265d4c2998b9818c0c4db71a",
       "version_major": 2,
       "version_minor": 0
      },
      "text/plain": [
       "Retrieving MaterialsDoc documents:   0%|          | 0/1 [00:00<?, ?it/s]"
      ]
     },
     "metadata": {},
     "output_type": "display_data"
    }
   ],
   "source": [
    "with MPRester(mp_key) as m:\n",
    "    prim_struc = m.get_structure_by_material_id(mp_id)\n",
    "\n",
    "conv_struc = SpacegroupAnalyzer(prim_struc).get_conventional_standard_structure()\n",
    "symmops = SpacegroupAnalyzer(conv_struc).get_space_group_operations()"
   ]
  },
  {
   "cell_type": "markdown",
   "id": "8f2169bb",
   "metadata": {},
   "source": [
    "# Symétrie de  structure du ScNiBi"
   ]
  },
  {
   "cell_type": "code",
   "execution_count": 18,
   "id": "0067bf00",
   "metadata": {},
   "outputs": [
    {
     "data": {
      "application/vnd.jupyter.widget-view+json": {
       "model_id": "98b91186362144fca583ab5ad77e1f3b",
       "version_major": 2,
       "version_minor": 0
      },
      "text/plain": [
       "JsmolView(layout=Layout(align_self='stretch', height='400px'))"
      ]
     },
     "metadata": {},
     "output_type": "display_data"
    }
   ],
   "source": [
    "view = quick_view(prim_struc, \"packed\", conventional = True)\n",
    "display(view)\n",
    "\n"
   ]
  },
  {
   "cell_type": "markdown",
   "id": "0df125c5",
   "metadata": {},
   "source": [
    "Positions de chaque atome dans la cellule conventionnelle et primitive"
   ]
  },
  {
   "cell_type": "code",
   "execution_count": 19,
   "id": "706643de",
   "metadata": {},
   "outputs": [
    {
     "data": {
      "text/plain": [
       "[PeriodicSite: Sc (3.111, 0.0, 1.905e-16) [0.5, 0.0, 0.0],\n",
       " PeriodicSite: Sc (3.111, 3.111, 3.111) [0.5, 0.5, 0.5],\n",
       " PeriodicSite: Sc (0.0, 0.0, 3.111) [0.0, 0.0, 0.5],\n",
       " PeriodicSite: Sc (5.003e-16, 3.111, 1.905e-16) [0.0, 0.5, 0.0],\n",
       " PeriodicSite: Ni (4.667, 1.556, 1.556) [0.75, 0.25, 0.25],\n",
       " PeriodicSite: Ni (4.667, 4.667, 4.667) [0.75, 0.75, 0.75],\n",
       " PeriodicSite: Ni (1.556, 1.556, 4.667) [0.25, 0.25, 0.75],\n",
       " PeriodicSite: Ni (1.556, 4.667, 1.556) [0.25, 0.75, 0.25],\n",
       " PeriodicSite: Bi (0.0, 0.0, 0.0) [0.0, 0.0, 0.0],\n",
       " PeriodicSite: Bi (5.003e-16, 3.111, 3.111) [0.0, 0.5, 0.5],\n",
       " PeriodicSite: Bi (3.111, 0.0, 3.111) [0.5, 0.0, 0.5],\n",
       " PeriodicSite: Bi (3.111, 3.111, 3.81e-16) [0.5, 0.5, 0.0]]"
      ]
     },
     "execution_count": 19,
     "metadata": {},
     "output_type": "execute_result"
    }
   ],
   "source": [
    "conv_struc.sites"
   ]
  },
  {
   "cell_type": "code",
   "execution_count": 20,
   "id": "c1f67900",
   "metadata": {},
   "outputs": [
    {
     "data": {
      "text/plain": [
       "[PeriodicSite: Sc (2.54, 1.796, 4.4) [0.5, 0.5, 0.5],\n",
       " PeriodicSite: Ni (1.27, 0.8982, 2.2) [0.25, 0.25, 0.25],\n",
       " PeriodicSite: Bi (0.0, 0.0, 0.0) [-0.0, 0.0, 0.0]]"
      ]
     },
     "execution_count": 20,
     "metadata": {},
     "output_type": "execute_result"
    }
   ],
   "source": [
    "prim_struc.sites"
   ]
  },
  {
   "cell_type": "code",
   "execution_count": 21,
   "id": "86b95c2a",
   "metadata": {},
   "outputs": [
    {
     "name": "stdout",
     "output_type": "stream",
     "text": [
      "[0.5 0.  0. ]\n",
      "[0.75 0.75 0.75]\n",
      "[0.  0.5 0.5]\n"
     ]
    }
   ],
   "source": [
    "Sc_pos_init = conv_struc.sites[0].frac_coords\n",
    "Ni_pos_init = conv_struc.sites[5].frac_coords\n",
    "Bi_pos_init = conv_struc.sites[9].frac_coords\n",
    "print(Sc_pos_init)\n",
    "print(Ni_pos_init)\n",
    "print(Bi_pos_init)"
   ]
  },
  {
   "cell_type": "code",
   "execution_count": 22,
   "id": "0fec8e98",
   "metadata": {},
   "outputs": [
    {
     "name": "stdout",
     "output_type": "stream",
     "text": [
      "y, -x, -z\n",
      "y, x, z\n",
      "z, x, y\n"
     ]
    }
   ],
   "source": [
    "symmop_1 = symmops[1] # rot-inversion d'ordre 4 (4-bar)\n",
    "\n",
    "symmop_2 = symmops[5] # miroir (m)\n",
    "symmop_3 = symmops[8] # rotation d'ordre 3 (C3)\n",
    "\n",
    "print(symmop_1.as_xyz_str())\n",
    "print(symmop_2.as_xyz_str())\n",
    "print(symmop_3.as_xyz_str())\n"
   ]
  },
  {
   "cell_type": "code",
   "execution_count": 23,
   "id": "09e39566",
   "metadata": {},
   "outputs": [
    {
     "name": "stdout",
     "output_type": "stream",
     "text": [
      "[ 0.  -0.5  0. ]\n",
      "[0.75 0.75 0.75]\n",
      "[0.5 0.  0.5]\n"
     ]
    }
   ],
   "source": [
    "Sc_pos_final = symmop_1.operate(Sc_pos_init)\n",
    "Ni_pos_final = symmop_2.operate(Ni_pos_init)\n",
    "Bi_pos_final = symmop_3.operate(Bi_pos_init)\n",
    "print(Sc_pos_final)\n",
    "print(Ni_pos_final)\n",
    "print(Bi_pos_final)"
   ]
  },
  {
   "cell_type": "markdown",
   "id": "5527c639",
   "metadata": {},
   "source": [
    "## Axe de roto-inversion d'ordre 4"
   ]
  },
  {
   "cell_type": "code",
   "execution_count": 25,
   "id": "f60689f6",
   "metadata": {
    "scrolled": true
   },
   "outputs": [
    {
     "name": "stdout",
     "output_type": "stream",
     "text": [
      "Les coordonnées initial de l'atome de Sc sont: [0.5 0.  0. ]\n",
      "\n",
      "l'équation de la symétrie étant : y, -x, -z,\n",
      "la matrices de rotation et le vecteur de translation sont : \n",
      " Rot:\n",
      "[[ 0.  1.  0.]\n",
      " [-1.  0.  0.]\n",
      " [ 0.  0. -1.]]\n",
      "tau\n",
      "[0. 0. 0.] \n",
      "\n",
      "Après l'opération de symmétrie, les coordonnées de Sc sont :  [ 0.  -0.5  0. ] \n",
      "\n"
     ]
    },
    {
     "data": {
      "application/vnd.jupyter.widget-view+json": {
       "model_id": "4674f3c9a2ab452a8070e7897a717ead",
       "version_major": 2,
       "version_minor": 0
      },
      "text/plain": [
       "JsmolView(layout=Layout(align_self='stretch', height='400px'))"
      ]
     },
     "metadata": {},
     "output_type": "display_data"
    }
   ],
   "source": [
    "print(f\"Les coordonnées initial de l'atome de Sc sont: {Sc_pos_init}\\n\")\n",
    "print(f\"l'équation de la symétrie étant : {symmop_1.as_xyz_str()},\")\n",
    "print(f\"la matrices de rotation et le vecteur de translation sont : \\n {symmop_1} \\n\")\n",
    "print(\"Après l'opération de symmétrie, les coordonnées de Sc sont : \",Sc_pos_final, \"\\n\")\n",
    "\n",
    "\n",
    "view_Sc = quick_view(prim_struc, \"packed\", conventional = True)\n",
    "display(view_Sc)\n",
    "\n",
    "view_Sc.script('draw SYMOP 2 {atomno = 1}')"
   ]
  },
  {
   "cell_type": "markdown",
   "id": "3e3ca7f1",
   "metadata": {},
   "source": [
    "## Plan miroir "
   ]
  },
  {
   "cell_type": "code",
   "execution_count": 26,
   "id": "c669d0e5",
   "metadata": {},
   "outputs": [
    {
     "name": "stdout",
     "output_type": "stream",
     "text": [
      "Les coordonnées initial de l'atome de Ni sont: [0.75 0.75 0.75]\n",
      "\n",
      "l'équation de la symétrie étant : y, x, z,\n",
      "la matrices de rotation et le vecteur de translation sont : \n",
      " Rot:\n",
      "[[0. 1. 0.]\n",
      " [1. 0. 0.]\n",
      " [0. 0. 1.]]\n",
      "tau\n",
      "[0. 0. 0.] \n",
      "\n",
      "Après l'opération de symmétrie, les coordonnées de Ni sont :  [0.75 0.75 0.75] \n",
      "\n"
     ]
    },
    {
     "data": {
      "application/vnd.jupyter.widget-view+json": {
       "model_id": "059fc3755c04490084fc036a292bfb86",
       "version_major": 2,
       "version_minor": 0
      },
      "text/plain": [
       "JsmolView(layout=Layout(align_self='stretch', height='400px'))"
      ]
     },
     "metadata": {},
     "output_type": "display_data"
    }
   ],
   "source": [
    "print(f\"Les coordonnées initial de l'atome de Ni sont: {Ni_pos_init}\\n\")\n",
    "print(f\"l'équation de la symétrie étant : {symmop_2.as_xyz_str()},\")\n",
    "print(f\"la matrices de rotation et le vecteur de translation sont : \\n {symmop_2} \\n\")\n",
    "print(\"Après l'opération de symmétrie, les coordonnées de Ni sont : \",Ni_pos_final, \"\\n\")\n",
    "\n",
    "view_Ni = quick_view(prim_struc, \"packed\", conventional = True)\n",
    "display(view_Ni)\n",
    "\n"
   ]
  },
  {
   "cell_type": "code",
   "execution_count": 27,
   "id": "7c7342cd",
   "metadata": {},
   "outputs": [],
   "source": [
    "view_Ni.script('draw SYMOP 6 {atomno = 6}')"
   ]
  },
  {
   "cell_type": "markdown",
   "id": "0aa70789",
   "metadata": {},
   "source": [
    "## Rotation d'ordre 3"
   ]
  },
  {
   "cell_type": "code",
   "execution_count": 28,
   "id": "ff3feff3",
   "metadata": {},
   "outputs": [
    {
     "name": "stdout",
     "output_type": "stream",
     "text": [
      "Les coordonnées initial de l'atome de Bi sont: [0.  0.5 0.5]\n",
      "\n",
      "l'équation de la symétrie étant : z, x, y,\n",
      "la matrices de rotation et le vecteur de translation sont : \n",
      " Rot:\n",
      "[[0. 0. 1.]\n",
      " [1. 0. 0.]\n",
      " [0. 1. 0.]]\n",
      "tau\n",
      "[0. 0. 0.] \n",
      "\n",
      "Après l'opération de symmétrie, les coordonnées de Bi sont :  [0.5 0.  0.5] \n",
      "\n"
     ]
    },
    {
     "data": {
      "application/vnd.jupyter.widget-view+json": {
       "model_id": "8a2ebc9b0d304f9b9c3a763c54f24579",
       "version_major": 2,
       "version_minor": 0
      },
      "text/plain": [
       "JsmolView(layout=Layout(align_self='stretch', height='400px'))"
      ]
     },
     "metadata": {},
     "output_type": "display_data"
    }
   ],
   "source": [
    "print(f\"Les coordonnées initial de l'atome de Bi sont: {Bi_pos_init}\\n\")\n",
    "print(f\"l'équation de la symétrie étant : {symmop_3.as_xyz_str()},\")\n",
    "print(f\"la matrices de rotation et le vecteur de translation sont : \\n {symmop_3} \\n\")\n",
    "print(\"Après l'opération de symmétrie, les coordonnées de Bi sont : \",Bi_pos_final, \"\\n\")\n",
    "\n",
    "\n",
    "view_Bi = quick_view(prim_struc, \"packed\", conventional = True)\n",
    "display(view_Bi)\n",
    "\n"
   ]
  },
  {
   "cell_type": "code",
   "execution_count": 29,
   "id": "731bde7f",
   "metadata": {},
   "outputs": [],
   "source": [
    "view_Bi.script('draw SYMOP 9 {atomno = 10}')"
   ]
  },
  {
   "cell_type": "code",
   "execution_count": null,
   "id": "bcc4c8d4",
   "metadata": {},
   "outputs": [],
   "source": [
    "view.close()\n",
    "view_Sc.close()\n",
    "view_Ni.close()\n",
    "view_Bi.close()"
   ]
  },
  {
   "cell_type": "code",
   "execution_count": null,
   "id": "1a94aad4",
   "metadata": {},
   "outputs": [],
   "source": []
  },
  {
   "cell_type": "code",
   "execution_count": null,
   "id": "d25944eb",
   "metadata": {},
   "outputs": [],
   "source": []
  }
 ],
 "metadata": {
  "kernelspec": {
   "display_name": "MLenv",
   "language": "python",
   "name": "mlenv"
  },
  "language_info": {
   "codemirror_mode": {
    "name": "ipython",
    "version": 3
   },
   "file_extension": ".py",
   "mimetype": "text/x-python",
   "name": "python",
   "nbconvert_exporter": "python",
   "pygments_lexer": "ipython3",
   "version": "3.10.14"
  },
  "nbTranslate": {
   "displayLangs": [
    "*"
   ],
   "hotkey": "alt-t",
   "langInMainMenu": true,
   "sourceLang": "en",
   "targetLang": "fr",
   "useGoogleTranslate": true
  },
  "toc": {
   "base_numbering": 1,
   "nav_menu": {},
   "number_sections": true,
   "sideBar": true,
   "skip_h1_title": false,
   "title_cell": "Table of Contents",
   "title_sidebar": "Contents",
   "toc_cell": false,
   "toc_position": {},
   "toc_section_display": true,
   "toc_window_display": false
  },
  "varInspector": {
   "cols": {
    "lenName": 16,
    "lenType": 16,
    "lenVar": 40
   },
   "kernels_config": {
    "python": {
     "delete_cmd_postfix": "",
     "delete_cmd_prefix": "del ",
     "library": "var_list.py",
     "varRefreshCmd": "print(var_dic_list())"
    },
    "r": {
     "delete_cmd_postfix": ") ",
     "delete_cmd_prefix": "rm(",
     "library": "var_list.r",
     "varRefreshCmd": "cat(var_dic_list()) "
    }
   },
   "types_to_exclude": [
    "module",
    "function",
    "builtin_function_or_method",
    "instance",
    "_Feature"
   ],
   "window_display": false
  }
 },
 "nbformat": 4,
 "nbformat_minor": 5
}
